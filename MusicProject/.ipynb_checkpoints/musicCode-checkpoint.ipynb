{
 "cells": [
  {
   "cell_type": "code",
   "execution_count": 4,
   "metadata": {},
   "outputs": [],
   "source": [
    "import serial\n",
    "import time\n",
    "import playsound\n",
    "\n"
   ]
  },
  {
   "cell_type": "code",
   "execution_count": 5,
   "metadata": {},
   "outputs": [],
   "source": [
    "serialComm = serial.Serial('COM3', 9600)\n",
    "serialComm.timeout = 1"
   ]
  },
  {
   "cell_type": "code",
   "execution_count": null,
   "metadata": {},
   "outputs": [],
   "source": [
    "while True:   \n",
    "    arduinoData = serialComm.readline()   \n",
    "    print(arduinoData)       \n",
    "    if (arduinoData == b'1\\r\\n'):       \n",
    "        print('Enjoy this AFRICAN music by Yemi Alade')               \n",
    "        playsound.playsound('yemiAlade.mp3')       \n",
    "    print('That lit AFRICAN track by Yemi Alade is done, hit next button to keep jaming')           \n",
    "\n",
    "    if (arduinoData == b'2\\r\\n'):       \n",
    "        print('Enjoy this REGEATON music by Sean Paul,Meghan Trainor and CNCO')              \n",
    "        playsound.playsound('heyDJ.mp3')       \n",
    "    print('That lit REGEATON track is done, hit next button to keep jaming)           \n",
    "\n",
    "    if (arduinoData == b'3\\r\\n'):       \n",
    "        print('Song 3 playing')       \n",
    "        playsound.playsound('vegedream.mp3')       \n",
    "    print('That lit FRENCH track is done, hit next button to keep jaming)\n",
    "\n",
    "\n",
    "serialComm.close()"
   ]
  }
 ],
 "metadata": {
  "kernelspec": {
   "display_name": "Python 3",
   "language": "python",
   "name": "python3"
  },
  "language_info": {
   "codemirror_mode": {
    "name": "ipython",
    "version": 3
   },
   "file_extension": ".py",
   "mimetype": "text/x-python",
   "name": "python",
   "nbconvert_exporter": "python",
   "pygments_lexer": "ipython3",
   "version": "3.7.3"
  }
 },
 "nbformat": 4,
 "nbformat_minor": 2
}
