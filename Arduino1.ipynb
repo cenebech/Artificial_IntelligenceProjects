{
 "cells": [
  {
   "cell_type": "code",
   "execution_count": null,
   "metadata": {},
   "outputs": [
    {
     "name": "stdout",
     "output_type": "stream",
     "text": [
      "input (on/off):on\n",
      "The LED is ON\n",
      "\n",
      "input (on/off):off\n",
      "The LED is OFF\n",
      "\n",
      "input (on/off):on\n",
      "The LED is ON\n",
      "\n"
     ]
    }
   ],
   "source": [
    "\n",
    "import serial\n",
    "import time\n",
    "\n",
    "SerialComm = serial.Serial('COM5',9600)\n",
    "SerialComm.timeout = 1\n",
    "\n",
    "while True:\n",
    "    i = input(\"input (on/off):\").strip()\n",
    "    if i == 'done':\n",
    "        print('finished trnsmission')\n",
    "        break\n",
    "    SerialComm.write(i.encode())\n",
    "    time.sleep(0.5)\n",
    "    \n",
    "    \n",
    "    print(SerialComm.readline().decode('ascii'))\n",
    "Serialcomm.close()"
   ]
  },
  {
   "cell_type": "code",
   "execution_count": null,
   "metadata": {},
   "outputs": [],
   "source": []
  },
  {
   "cell_type": "code",
   "execution_count": null,
   "metadata": {},
   "outputs": [],
   "source": []
  }
 ],
 "metadata": {
  "kernelspec": {
   "display_name": "Python 3",
   "language": "python",
   "name": "python3"
  },
  "language_info": {
   "codemirror_mode": {
    "name": "ipython",
    "version": 3
   },
   "file_extension": ".py",
   "mimetype": "text/x-python",
   "name": "python",
   "nbconvert_exporter": "python",
   "pygments_lexer": "ipython3",
   "version": "3.7.3"
  }
 },
 "nbformat": 4,
 "nbformat_minor": 2
}
