{
 "cells": [
  {
   "cell_type": "code",
   "execution_count": null,
   "metadata": {},
   "outputs": [],
   "source": [
    "\n",
    "import serial\n",
    "import time\n",
    "\n",
    "SerialComm = serial.Serial('COM5',9600)\n",
    "SerialComm.timeout = 1\n",
    "\n",
    "while True:\n",
    "    i = input(\"input (print):\").strip()\n",
    "    if i == 'print':\n",
    "        print('finished transmission')\n",
    "        break\n",
    "    SerialComm.write(i.encode())\n",
    "    time.sleep(0.5)\n",
    "    \n",
    "    \n",
    "    print(SerialComm.readline().decode('ascii'))\n",
    "Serialcomm.close()"
   ]
  }
 ],
 "metadata": {
  "kernelspec": {
   "display_name": "Python 3",
   "language": "python",
   "name": "python3"
  },
  "language_info": {
   "codemirror_mode": {
    "name": "ipython",
    "version": 3
   },
   "file_extension": ".py",
   "mimetype": "text/x-python",
   "name": "python",
   "nbconvert_exporter": "python",
   "pygments_lexer": "ipython3",
   "version": "3.7.3"
  }
 },
 "nbformat": 4,
 "nbformat_minor": 2
}
