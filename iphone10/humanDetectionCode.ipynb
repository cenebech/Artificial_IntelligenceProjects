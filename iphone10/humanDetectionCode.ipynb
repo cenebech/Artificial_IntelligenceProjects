{
 "cells": [
  {
   "cell_type": "code",
   "execution_count": 2,
   "metadata": {},
   "outputs": [
    {
     "name": "stdout",
     "output_type": "stream",
     "text": [
      "Face(s) found:  1\n"
     ]
    }
   ],
   "source": [
    "import cv2\n",
    "import serial\n",
    "import time\n",
    "\n",
    "#serialComm = serial.Serial('COM3', 9600)\n",
    "#serialComm.timeout = 1\n",
    "\n",
    "# Enter the paths for your image and cascade files here\n",
    "imagePath = r'C:\\Users\\nuela\\Desktop\\Python\\JupyterNoteBook\\Arduino\\iphone10\\mypic0.png' #keep the \"r\" in front of your path!\n",
    "cascPath = r'C:\\Users\\nuela\\Desktop\\Python\\JupyterNoteBook\\Arduino\\iphone10\\haarcascade_frontalface_default.xml'\n",
    "\n",
    "\n",
    "# Create the haar cascade\n",
    "# the cascade is just an XML file that contains the data to detect faces. OpenCV comes with many of these for\n",
    "# cat faces, human faces, car plates, human shapes, eyes, smiles,...\n",
    "faceCascade = cv2.CascadeClassifier(cascPath)\n",
    "\n",
    "# Read the image that we want to analyze\n",
    "image = cv2.imread(imagePath)\n",
    "cv2.imshow('Original image',image) # display original image in a new windows\n",
    "cv2.waitKey(0) # waits until you press a key (any key)\n",
    "cv2.destroyAllWindows() # closes the image that was opened as a new window\n",
    "\n",
    "#Transform the image to Grayscale\n",
    "gray = cv2.cvtColor(image, cv2.COLOR_BGR2GRAY) # transforms the color image into grayscale to improve pattern recognition\n",
    "cv2.imshow('Gray image', gray) # display the grayscale image in a new windows\n",
    "cv2.waitKey(0) # waits until you press a key (any key)\n",
    "cv2.destroyAllWindows() # closes the gray image that was opened as a new window\n",
    "\n",
    "# Detect cat's faces in the image\n",
    "faces = faceCascade.detectMultiScale( # faces is a list of vectors containing the coordinates of the rectangles that encapsulate the faces found in the image\n",
    "    gray,\n",
    "    scaleFactor= 1.20075, #1.25\n",
    "    minNeighbors=5, #5\n",
    "    minSize=(20, 20), #30, 30\n",
    "    flags = cv2.CASCADE_SCALE_IMAGE\n",
    ")\n",
    "\n",
    "#Print the number of cat faces found\n",
    "print('Face(s) found: ', len(faces))\n",
    "facenum = len(faces)\n",
    "StrFacenum = str(facenum)\n",
    "\n",
    "#serialComm.write(StrFacenum.encode())\n",
    "\n",
    "# Draw a rectangle around the faces\n",
    "for (x, y, w, h) in faces:\n",
    "    cv2.rectangle(image, (x, y), (x+w, y+h), (0, 255, 0), 2)\n",
    "    \n",
    "#Display the cat faces found on the image\n",
    "cv2.imshow(\"Faces found\", image)\n",
    "cv2.waitKey(0)\n",
    "cv2.destroyAllWindows()\n",
    "\n",
    "#---------------------------------------------------------------friends-------------------------------------------------\n"
   ]
  },
  {
   "cell_type": "code",
   "execution_count": null,
   "metadata": {},
   "outputs": [],
   "source": []
  },
  {
   "cell_type": "code",
   "execution_count": null,
   "metadata": {},
   "outputs": [],
   "source": []
  },
  {
   "cell_type": "code",
   "execution_count": null,
   "metadata": {},
   "outputs": [],
   "source": []
  }
 ],
 "metadata": {
  "kernelspec": {
   "display_name": "Python 3",
   "language": "python",
   "name": "python3"
  },
  "language_info": {
   "codemirror_mode": {
    "name": "ipython",
    "version": 3
   },
   "file_extension": ".py",
   "mimetype": "text/x-python",
   "name": "python",
   "nbconvert_exporter": "python",
   "pygments_lexer": "ipython3",
   "version": "3.7.3"
  }
 },
 "nbformat": 4,
 "nbformat_minor": 2
}
