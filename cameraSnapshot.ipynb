{
 "cells": [
  {
   "cell_type": "markdown",
   "metadata": {},
   "source": [
    "# Camera snapshot"
   ]
  },
  {
   "cell_type": "code",
   "execution_count": 2,
   "metadata": {},
   "outputs": [],
   "source": [
    "import cv2\n",
    "import time\n",
    "\n",
    "camera = cv2.VideoCapture(0)\n",
    "\n",
    "success, image = camera.read()\n",
    "time.sleep(0.1)\n",
    "sucess, image = camera.read()\n",
    "\n",
    "cv2.imwrite('mypic2.png', image)\n",
    "\n",
    "del(camera)"
   ]
  },
  {
   "cell_type": "code",
   "execution_count": 7,
   "metadata": {},
   "outputs": [],
   "source": [
    "#with for loop to take multiple images\n",
    "\n",
    "camera2 = cv2.VideoCapture(0)\n",
    "\n",
    "\n",
    "for i in range (1):\n",
    "    success, image = camera2.read()\n",
    "    time.sleep(0.1)\n",
    "    sucess, image = camera2.read()\n",
    "\n",
    "    cv2.imwrite('mypic'+ str(i) + \".png\", image)\n",
    "\n",
    "del(camera2)"
   ]
  },
  {
   "cell_type": "code",
   "execution_count": null,
   "metadata": {},
   "outputs": [],
   "source": []
  },
  {
   "cell_type": "code",
   "execution_count": null,
   "metadata": {},
   "outputs": [],
   "source": []
  }
 ],
 "metadata": {
  "kernelspec": {
   "display_name": "Python 3",
   "language": "python",
   "name": "python3"
  },
  "language_info": {
   "codemirror_mode": {
    "name": "ipython",
    "version": 3
   },
   "file_extension": ".py",
   "mimetype": "text/x-python",
   "name": "python",
   "nbconvert_exporter": "python",
   "pygments_lexer": "ipython3",
   "version": "3.7.3"
  }
 },
 "nbformat": 4,
 "nbformat_minor": 2
}
