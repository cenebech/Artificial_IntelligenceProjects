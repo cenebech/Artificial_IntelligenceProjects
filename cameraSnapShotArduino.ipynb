{
 "cells": [
  {
   "cell_type": "code",
   "execution_count": null,
   "metadata": {},
   "outputs": [],
   "source": [
    "import serial\n",
    "import cv2\n",
    "import time\n",
    "serialCom = serial.Serial('COM6', baudrate = 9600, timeout = 1)\n",
    "\n",
    "\n",
    "\n",
    "while True:\n",
    "    arduinoData = serialCom.readline().decode('ascii')\n",
    "    #print(arduinoData)\n",
    "    \n",
    "    if arduinoData == \"smile\":\n",
    "        print(\"Great\")\n",
    "        camera = cv2.VideoCapture(0)\n",
    "        success, image = camera.read()\n",
    "        time.sleep(0.1)\n",
    "        sucess, image = camera.read()\n",
    "\n",
    "        cv2.imwrite('mypic.png', image)\n",
    "\n",
    "del(camera)"
   ]
  },
  {
   "cell_type": "code",
   "execution_count": null,
   "metadata": {},
   "outputs": [],
   "source": []
  },
  {
   "cell_type": "code",
   "execution_count": null,
   "metadata": {},
   "outputs": [],
   "source": []
  }
 ],
 "metadata": {
  "kernelspec": {
   "display_name": "Python 3",
   "language": "python",
   "name": "python3"
  },
  "language_info": {
   "codemirror_mode": {
    "name": "ipython",
    "version": 3
   },
   "file_extension": ".py",
   "mimetype": "text/x-python",
   "name": "python",
   "nbconvert_exporter": "python",
   "pygments_lexer": "ipython3",
   "version": "3.7.3"
  }
 },
 "nbformat": 4,
 "nbformat_minor": 2
}
